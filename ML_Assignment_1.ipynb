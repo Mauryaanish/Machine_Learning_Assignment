{
  "nbformat": 4,
  "nbformat_minor": 0,
  "metadata": {
    "colab": {
      "provenance": []
    },
    "kernelspec": {
      "name": "python3",
      "display_name": "Python 3"
    },
    "language_info": {
      "name": "python"
    }
  },
  "cells": [
    {
      "cell_type": "code",
      "execution_count": null,
      "metadata": {
        "id": "kFw06VZ3MDuK"
      },
      "outputs": [],
      "source": []
    },
    {
      "cell_type": "markdown",
      "source": [
        "1. What does one mean by the term &quot;machine learning&quot;?\n",
        "\n",
        "Answer:- machine learning empowers computers to learn from data and perform complex tasks that would otherwise require explicit programming or human intervention, opening up new possibilities for automation and intelligent decision-making."
      ],
      "metadata": {
        "id": "4nHe0j80Mt78"
      }
    },
    {
      "cell_type": "code",
      "source": [],
      "metadata": {
        "id": "YrRGPGufM7DX"
      },
      "execution_count": null,
      "outputs": []
    },
    {
      "cell_type": "markdown",
      "source": [
        "2.Can you think of 4 distinct types of issues where it shines?\n",
        "\n",
        "Answer:- 1. Image and Object Recognitio,\n",
        "          2. NLP,\n",
        "          3. Fund Detection,\n",
        "          4. Recommendation Systems"
      ],
      "metadata": {
        "id": "2wuXCXAVM-c6"
      }
    },
    {
      "cell_type": "code",
      "source": [],
      "metadata": {
        "id": "CgtBkKyRNl3f"
      },
      "execution_count": null,
      "outputs": []
    },
    {
      "cell_type": "markdown",
      "source": [
        "3.What is a labeled training set, and how does it work?\n",
        "\n",
        "Answer: -  labeled training set is a dataset used in supervised machine learning algorithms. It consists of input data (also called features) and corresponding output labels or target values. The labels represent the desired or correct answers for the given inputs. The purpose of a labeled training set is to train a machine learning model to make accurate predictions or classifications based on new, unseen data.\n",
        "\n",
        "Here's how a labeled training set works in the context of supervised learning:\n",
        "\n",
        "Data Collection: A labeled training set is created by collecting a sufficient amount of data where both the input features and their corresponding labels are known. For example, in a spam email classification task, the dataset may include email text as input features and labels indicating whether each email is spam or not.\n",
        "\n",
        "Training Phase: During the training phase, the machine learning algorithm analyzes the labeled training set to learn patterns and relationships between the input features and labels. It adjusts its internal parameters or weights based on the provided examples to minimize the prediction errors.\n",
        "\n",
        "Model Building: The machine learning algorithm builds a model using the labeled training set. The model captures the patterns and dependencies between the input features and the target labels. The specific type of model depends on the algorithm used, such as decision trees, neural networks, or support vector machines.\n",
        "\n",
        "Prediction or Inference: Once the model is trained, it can be used to make predictions or classifications on new, unseen data. The model takes the input features and generates predictions or class labels based on the learned patterns from the labeled training set.\n",
        "\n",
        "Evaluation: The performance of the model is assessed by comparing its predictions on a separate test set with the true labels. This evaluation helps measure the accuracy and generalization ability of the model, ensuring it can make accurate predictions on unseen data beyond the training set.\n",
        "\n",
        "The availability of a labeled training set is crucial in supervised learning as it provides the necessary ground truth for the algorithm to learn and make predictions. The more diverse and representative the labeled training set is, the better the model can generalize to new, unseen data and make accurate predictions or classifications."
      ],
      "metadata": {
        "id": "jZPLBJhpPNmf"
      }
    },
    {
      "cell_type": "code",
      "source": [],
      "metadata": {
        "id": "oqiG6JzhPa-V"
      },
      "execution_count": null,
      "outputs": []
    },
    {
      "cell_type": "markdown",
      "source": [
        "4.What are the two most important tasks that are supervised?\n",
        "\n",
        "Answer:-1. Classification 2.\n",
        "          Regression"
      ],
      "metadata": {
        "id": "VkaalpjtPePZ"
      }
    },
    {
      "cell_type": "code",
      "source": [],
      "metadata": {
        "id": "uPuq6bAoTMdV"
      },
      "execution_count": null,
      "outputs": []
    },
    {
      "cell_type": "markdown",
      "source": [
        "5.Can you think of four examples of unsupervised tasks?\n",
        "\n",
        "Answer:- 1. Clustering, 2. Dimensionality Reduction, 3.Association Rule Mining ,4.Anomaly Detection"
      ],
      "metadata": {
        "id": "Tuh2zVVATRua"
      }
    },
    {
      "cell_type": "code",
      "source": [],
      "metadata": {
        "id": "rJowBNnwTtV1"
      },
      "execution_count": null,
      "outputs": []
    },
    {
      "cell_type": "markdown",
      "source": [
        "6.State the machine learning model that would be best to make a robot walk through various\n",
        "unfamiliar terrains?\n",
        "\n",
        "Answer:- State Representation, Action Space , Reward Design, Learning Process, Exploration and Exploitation,"
      ],
      "metadata": {
        "id": "oqU9gcI-TzKZ"
      }
    },
    {
      "cell_type": "code",
      "source": [],
      "metadata": {
        "id": "mqMBoAcEUIOs"
      },
      "execution_count": null,
      "outputs": []
    },
    {
      "cell_type": "markdown",
      "source": [
        "7.Which algorithm will you use to divide your customers into different groups?\n",
        "\n",
        "Answer:- To divide customers into different groups, a commonly used algorithm is K-means clustering."
      ],
      "metadata": {
        "id": "BeBf93gjUOhm"
      }
    },
    {
      "cell_type": "markdown",
      "source": [
        "8.Will you consider the problem of spam detection to be a supervised or unsupervised learning\n",
        "problem?\n",
        "\n",
        "Answer:- multinomial naive bayes"
      ],
      "metadata": {
        "id": "wucRnlKcUOoN"
      }
    },
    {
      "cell_type": "code",
      "source": [],
      "metadata": {
        "id": "L3YlFQ3DUzED"
      },
      "execution_count": null,
      "outputs": []
    },
    {
      "cell_type": "markdown",
      "source": [
        "9.What is the concept of an online learning system?\n",
        "\n",
        "Answer:- The concept of an online learning system, also known as online machine learning or incremental learning, revolves around the ability of a machine learning model to continuously learn and adapt to new data in real-time or in an online fashion.\n",
        "\n",
        "In traditional batch learning, a model is trained on a fixed dataset, and once trained, it is deployed for making predictions on new, unseen data. However, in online learning, the model is updated incrementally as new data arrives, allowing it to adapt to changes and make predictions on-the-fly."
      ],
      "metadata": {
        "id": "w7Aih5VmU1xH"
      }
    },
    {
      "cell_type": "code",
      "source": [],
      "metadata": {
        "id": "THPgKmVtU9eU"
      },
      "execution_count": null,
      "outputs": []
    },
    {
      "cell_type": "markdown",
      "source": [
        "10.What is out-of-core learning, and how does it differ from core learning?\n",
        "\n",
        "Answer:- Out-of-core learning, also known as \"online learning with external memory,\" is a technique used to train machine learning models when the dataset is too large to fit into the available memory (RAM) of a computer. It involves processing the data in small manageable portions or batches, typically reading them from disk, and updating the model incrementally.\n",
        "\n",
        "In contrast, core learning refers to the traditional approach of training machine learning models where the entire dataset is loaded into memory (RAM) and processed as a whole. The model is trained on the complete dataset in a batch manner, and the learning process requires sufficient memory resources to hold the entire dataset.\n",
        "\n",
        "Here are the key differences between out-of-core learning and core learning:\n",
        "\n",
        "Data Handling: In core learning, the entire dataset is loaded into memory, and the model is trained using the available memory resources. In out-of-core learning, the dataset is too large to fit into memory, so it is processed in smaller batches that can be loaded, processed, and updated sequentially.\n",
        "\n",
        "Memory Usage: Core learning requires enough memory to store the entire dataset. This can be a limitation when dealing with large datasets that exceed the available memory. Out-of-core learning utilizes external storage (such as disk) to store and retrieve the data in smaller portions, enabling the model to learn from larger datasets that wouldn't fit into memory.\n",
        "\n",
        "Processing Efficiency: Core learning typically involves more efficient processing as the entire dataset is available in memory, allowing for faster computations. Out-of-core learning may be slower due to the need to read data from disk and process it in smaller batches. However, it provides the advantage of being able to handle datasets that are too large to fit in memory.\n",
        "\n",
        "Training Process: In core learning, the model is trained in a batch manner, where all the data is used to update the model's parameters simultaneously. In out-of-core learning, the model is updated incrementally as new batches of data are processed. The model's parameters are adjusted iteratively based on the current batch, and the process continues until all the data is processed.\n",
        "\n",
        "Out-of-core learning techniques are particularly useful when working with large-scale datasets, such as analyzing big data or streaming data scenarios. They allow for training models on datasets that cannot be loaded entirely into memory, enabling the utilization of available resources efficiently. However, it's important to note that out-of-core learning may require additional considerations, such as efficient data loading, data shuffling, and managing the trade-off between disk I/O and computational efficiency."
      ],
      "metadata": {
        "id": "wOtMZu6XV0Ju"
      }
    },
    {
      "cell_type": "code",
      "source": [],
      "metadata": {
        "id": "6pMgb9YkWDuc"
      },
      "execution_count": null,
      "outputs": []
    },
    {
      "cell_type": "markdown",
      "source": [
        "11.What kind of learning algorithm makes predictions using a similarity measure?\n",
        "\n",
        "Answer:- The learning algorithm that makes predictions using a similarity measure is called the instance-based learning algorithm or lazy learning algorithm.\n",
        "\n",
        "Instance-based learning algorithms do not explicitly build a model or learn parameters during the training phase. Instead, they memorize the training instances (also called the \"prototypes\") and make predictions based on the similarity between new instances and the stored training instances.\n",
        "\n",
        "The most common instance-based learning algorithm is k-nearest neighbors (KNN). It operates by calculating the similarity or distance between the new instance and the training instances in the feature space. The \"k\" in KNN represents the number of nearest neighbors to consider. The algorithm selects the k nearest neighbors and makes predictions based on the majority class or average value of the target variable among those neighbors.\n",
        "\n",
        "The similarity measure used in instance-based learning algorithms can vary depending on the problem and the type of data. Common similarity measures include Euclidean distance, Manhattan distance, cosine similarity, and correlation coefficient, among others. The choice of similarity measure depends on the nature of the data and the problem domain.\n",
        "\n",
        "Instance-based learning algorithms have the advantage of being able to handle complex decision boundaries and adapt to varying patterns in the data. They do not assume specific functional forms like parametric models, making them more flexible in capturing nonlinear relationships. However, they can be computationally expensive during prediction, especially when dealing with large datasets.\n",
        "\n",
        "In summary, instance-based learning algorithms, such as k-nearest neighbors, make predictions based on a similarity measure between new instances and the training instances stored in memory. They are suitable for problems where the local similarity between instances is a good indicator of their class or value."
      ],
      "metadata": {
        "id": "XoiC0TFuWIEf"
      }
    },
    {
      "cell_type": "code",
      "source": [],
      "metadata": {
        "id": "LjwX2ymRWYO8"
      },
      "execution_count": null,
      "outputs": []
    },
    {
      "cell_type": "markdown",
      "source": [
        "12.What&#39;s the difference between a model parameter and a hyperparameter in a learning\n",
        "algorithm?\n",
        "\n",
        "Answer:- Model Parameters:\n",
        "\n",
        "Model parameters are the internal variables or weights that the learning algorithm learns from the training data.\n",
        "These parameters define the structure and configuration of the model and are optimized during the learning process to make accurate predictions.\n",
        "Model parameters are learned by the algorithm itself through techniques like gradient descent or maximum likelihood estimation.\n",
        "\n",
        "\n",
        "Hyperparameters:\n",
        "\n",
        "Hyperparameters, on the other hand, are external configuration settings or choices made by the user or developer before the learning algorithm is trained.\n",
        "They are not learned from the training data but are set before the learning process begins.\n",
        "Hyperparameters control the behavior and performance of the learning algorithm and influence how the model parameters are learned."
      ],
      "metadata": {
        "id": "5OapL8aqWfTX"
      }
    },
    {
      "cell_type": "code",
      "source": [],
      "metadata": {
        "id": "sCvvPbyUWt_k"
      },
      "execution_count": null,
      "outputs": []
    },
    {
      "cell_type": "markdown",
      "source": [
        "13.What are the criteria that model-based learning algorithms look for? What is the most popular\n",
        "method they use to achieve success? What method do they use to make predictions?\n",
        "\n",
        "Answer:- Decision Tree , svm ,  Linear Regression"
      ],
      "metadata": {
        "id": "kSJPYtGOXAEr"
      }
    },
    {
      "cell_type": "code",
      "source": [],
      "metadata": {
        "id": "h1Ktg1sWXXRr"
      },
      "execution_count": null,
      "outputs": []
    },
    {
      "cell_type": "markdown",
      "source": [
        "14.Can you name four of the most important Machine Learning challenges?\n",
        "\n",
        "Answer:- EDA , Feature Engineerin , Model selection , Model Vailidation"
      ],
      "metadata": {
        "id": "2asOWHHdXZzU"
      }
    },
    {
      "cell_type": "code",
      "source": [],
      "metadata": {
        "id": "k2ksU0sIYPVj"
      },
      "execution_count": null,
      "outputs": []
    },
    {
      "cell_type": "markdown",
      "source": [
        "15.What happens if the model performs well on the training data but fails to generalize the results\n",
        "to new situations? Can you think of three different options?\n",
        "\n",
        "Answer:- Regularizatio , Cross-validation , Collecting more diverse data"
      ],
      "metadata": {
        "id": "tHoqDdSvY7VW"
      }
    },
    {
      "cell_type": "code",
      "source": [],
      "metadata": {
        "id": "oTurWYK5Y8Fa"
      },
      "execution_count": null,
      "outputs": []
    },
    {
      "cell_type": "markdown",
      "source": [
        "16.What exactly is a test set, and why would you need one?\n",
        "\n",
        "Answer:- Performance Evaluation , Generalization Assessment , Avoiding Overfitting, Hyperparameter Tuning ,Model Selection"
      ],
      "metadata": {
        "id": "P86iwyqTZYGp"
      }
    },
    {
      "cell_type": "code",
      "source": [],
      "metadata": {
        "id": "qiZwRzLoZqYI"
      },
      "execution_count": null,
      "outputs": []
    },
    {
      "cell_type": "markdown",
      "source": [
        "17.What is a validation set&#39;s purpose?\n",
        "\n",
        "Answer:- Model Tuning and Selection, Hyperparameter Optimization , Early Stopping , Performance Monitoring"
      ],
      "metadata": {
        "id": "JlPzUMQUZymP"
      }
    },
    {
      "cell_type": "code",
      "source": [],
      "metadata": {
        "id": "Gi2XXmI7aD-Y"
      },
      "execution_count": null,
      "outputs": []
    },
    {
      "cell_type": "markdown",
      "source": [
        "18.What precisely is the train-dev kit, when will you need it, how do you put it to use?\n",
        "\n",
        "Answer:- The term \"train-dev kit\" is not a commonly used phrase in machine learning terminology. However, there is a similar concept called the \"development set\" or \"dev set.\" Let me explain what it is and how it is used:\n",
        "\n",
        "The Development Set or Dev Set:\n",
        "The development set, also known as the dev set or validation set, is a subset of the training data that is used for fine-tuning the model and evaluating its performance during the development process. It is different from the validation set mentioned in the previous question, which is used to tune hyperparameters and make model selection decisions.\n",
        "\n",
        "When is the Development Set Needed?\n",
        "The development set is typically used in scenarios where you have a large training dataset and want to have an additional subset to monitor and validate the model's performance during iterative model development. It is especially useful when you need to make frequent adjustments to the model, experiment with different variations, or track the model's progress.\n",
        "\n",
        "How to Use the Development Set?\n",
        "The development set is used in a similar manner as the validation set. Here's how it is typically utilized:\n",
        "\n",
        "Model Fine-tuning: The development set is used to fine-tune the model by adjusting hyperparameters, feature engineering techniques, or model architectures. You can iteratively train the model on the training data and evaluate its performance on the development set to make adjustments and improve its performance.\n",
        "\n",
        "Performance Monitoring: The development set helps you monitor the model's progress during the development process. By evaluating the model's performance on the development set at different stages of training, you can identify overfitting, underfitting, or other issues and take corrective measures accordingly.\n",
        "\n",
        "Model Selection: If you have multiple candidate models or variations, the development set can be used for comparing their performance and selecting the best-performing model. By evaluating each model on the development set, you can make informed decisions about which model variant to choose.\n",
        "\n",
        "Iterative Development: The development set facilitates an iterative approach to model development. As you make changes to the model, you can assess their impact on the model's performance using the development set. This iterative process helps in refining the model and achieving better results.\n",
        "\n",
        "Remember, the development set should be separate from both the training set and the test set. It serves as an intermediate evaluation set during the model development process, while the final evaluation should be performed on the independent test set."
      ],
      "metadata": {
        "id": "La9W4msqdSCf"
      }
    },
    {
      "cell_type": "code",
      "source": [],
      "metadata": {
        "id": "8rZzkxJEd2p4"
      },
      "execution_count": null,
      "outputs": []
    },
    {
      "cell_type": "markdown",
      "source": [
        "19.What could go wrong if you use the test set to tune hyperparameters?\n",
        "\n",
        "Answer:- Overfitting to the Test Set , Lack of Generalization, Data Leakage, Biased Performance Estimates,"
      ],
      "metadata": {
        "id": "hLLAbv72d4Sf"
      }
    },
    {
      "cell_type": "code",
      "source": [],
      "metadata": {
        "id": "X-0lcCc3imgo"
      },
      "execution_count": null,
      "outputs": []
    }
  ]
}